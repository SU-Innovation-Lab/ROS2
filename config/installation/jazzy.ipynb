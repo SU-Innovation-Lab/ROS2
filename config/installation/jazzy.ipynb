{
 "cells": [
  {
   "cell_type": "markdown",
   "metadata": {},
   "source": [
    "<h1>ROS2 Installations for Ubuntu OS on Raspberry Pi 5</h1>"
   ]
  },
  {
   "cell_type": "markdown",
   "metadata": {},
   "source": [
    "<h3>About</h3>\n",
    "This guidline follows the path for installing <strong>ROS2 on a Raspberry Pi 5</strong> with <strong>Ubuntu 22.04 LTS</strong> flashed OS."
   ]
  },
  {
   "cell_type": "code",
   "execution_count": 9,
   "metadata": {},
   "outputs": [],
   "source": [
    "%%bash\n",
    "# source \"/home/test/ros2/bin/activate\"\n",
    "source \"/home/test/bin/activate\""
   ]
  }
 ],
 "metadata": {
  "kernelspec": {
   "display_name": "ros2",
   "language": "python",
   "name": "python3"
  },
  "language_info": {
   "codemirror_mode": {
    "name": "ipython",
    "version": 3
   },
   "file_extension": ".py",
   "mimetype": "text/x-python",
   "name": "python",
   "nbconvert_exporter": "python",
   "pygments_lexer": "ipython3",
   "version": "3.12.3"
  }
 },
 "nbformat": 4,
 "nbformat_minor": 2
}
